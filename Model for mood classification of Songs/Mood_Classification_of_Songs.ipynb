{
  "nbformat": 4,
  "nbformat_minor": 0,
  "metadata": {
    "colab": {
      "provenance": []
    },
    "kernelspec": {
      "name": "python3",
      "display_name": "Python 3"
    },
    "language_info": {
      "name": "python"
    }
  },
  "cells": [
    {
      "cell_type": "code",
      "execution_count": 1,
      "metadata": {
        "id": "hfMZl7-SzH0f"
      },
      "outputs": [],
      "source": [
        "import pandas as pd\n",
        "import numpy as np\n",
        "import json\n",
        "import re \n",
        "import sys\n",
        "import itertools\n",
        "\n",
        "from tensorflow.keras.models import Sequential\n",
        "from tensorflow.keras.layers import Dense\n",
        "from tensorflow.keras import utils\n",
        "\n",
        "from sklearn.feature_extraction.text import TfidfVectorizer\n",
        "from sklearn.metrics.pairwise import cosine_similarity\n",
        "from sklearn.preprocessing import MinMaxScaler\n",
        "from sklearn.model_selection import cross_val_score, KFold, train_test_split\n",
        "from sklearn.preprocessing import LabelEncoder\n",
        "from sklearn.metrics import confusion_matrix, accuracy_score\n",
        "\n",
        "import seaborn as sns\n",
        "import matplotlib.pyplot as plt\n",
        "\n",
        "import warnings\n",
        "warnings.filterwarnings(\"ignore\")"
      ]
    },
    {
      "cell_type": "code",
      "source": [
        "from google.colab import drive\n",
        "drive.mount('/content/drive')"
      ],
      "metadata": {
        "id": "vnT5VQRj2F0w",
        "outputId": "c24443e2-b216-4aea-e648-35e8d75f0141",
        "colab": {
          "base_uri": "https://localhost:8080/"
        }
      },
      "execution_count": 2,
      "outputs": [
        {
          "output_type": "stream",
          "name": "stdout",
          "text": [
            "Mounted at /content/drive\n"
          ]
        }
      ]
    },
    {
      "cell_type": "code",
      "source": [
        "df = pd.read_csv('/content/drive/MyDrive/Datasets/DataMoods.csv')\n",
        "df.columns"
      ],
      "metadata": {
        "colab": {
          "base_uri": "https://localhost:8080/"
        },
        "id": "6ihYwsP9NJD4",
        "outputId": "7171948b-0d2e-49a8-8f23-227675691927"
      },
      "execution_count": 3,
      "outputs": [
        {
          "output_type": "execute_result",
          "data": {
            "text/plain": [
              "Index(['name', 'album', 'artist', 'id', 'release_date', 'popularity', 'length',\n",
              "       'danceability', 'acousticness', 'energy', 'instrumentalness',\n",
              "       'liveness', 'valence', 'loudness', 'speechiness', 'tempo', 'key',\n",
              "       'time_signature', 'mood'],\n",
              "      dtype='object')"
            ]
          },
          "metadata": {},
          "execution_count": 3
        }
      ]
    },
    {
      "cell_type": "code",
      "source": [
        "df.shape"
      ],
      "metadata": {
        "colab": {
          "base_uri": "https://localhost:8080/"
        },
        "id": "yCHACXQHBY04",
        "outputId": "0f462a1e-ed59-4f0c-805d-3d1ae727850f"
      },
      "execution_count": 4,
      "outputs": [
        {
          "output_type": "execute_result",
          "data": {
            "text/plain": [
              "(686, 19)"
            ]
          },
          "metadata": {},
          "execution_count": 4
        }
      ]
    },
    {
      "cell_type": "code",
      "source": [
        "col_features = df.columns[7:-3]\n",
        "X= MinMaxScaler().fit_transform(df[col_features])\n",
        "Y = df['mood']\n",
        "col_features"
      ],
      "metadata": {
        "id": "pOBuiY4iOyeZ",
        "colab": {
          "base_uri": "https://localhost:8080/"
        },
        "outputId": "6421f3b8-14e3-4d14-c18b-31293a799c9f"
      },
      "execution_count": 5,
      "outputs": [
        {
          "output_type": "execute_result",
          "data": {
            "text/plain": [
              "Index(['danceability', 'acousticness', 'energy', 'instrumentalness',\n",
              "       'liveness', 'valence', 'loudness', 'speechiness', 'tempo'],\n",
              "      dtype='object')"
            ]
          },
          "metadata": {},
          "execution_count": 5
        }
      ]
    },
    {
      "cell_type": "code",
      "source": [
        "Y"
      ],
      "metadata": {
        "colab": {
          "base_uri": "https://localhost:8080/"
        },
        "id": "RCvLb3_AC2VK",
        "outputId": "3604b690-635d-4e85-8096-44279c49fa5f"
      },
      "execution_count": 6,
      "outputs": [
        {
          "output_type": "execute_result",
          "data": {
            "text/plain": [
              "0          Happy\n",
              "1            Sad\n",
              "2            Sad\n",
              "3          Happy\n",
              "4      Energetic\n",
              "         ...    \n",
              "681         Calm\n",
              "682          Sad\n",
              "683          Sad\n",
              "684          Sad\n",
              "685         Calm\n",
              "Name: mood, Length: 686, dtype: object"
            ]
          },
          "metadata": {},
          "execution_count": 6
        }
      ]
    },
    {
      "cell_type": "code",
      "source": [
        "from keras.utils import np_utils"
      ],
      "metadata": {
        "id": "rqVBcbvsLRbR"
      },
      "execution_count": 7,
      "outputs": []
    },
    {
      "cell_type": "code",
      "source": [
        "encoder = LabelEncoder()\n",
        "encoder.fit(Y)\n",
        "encodedY = encoder.transform(Y)\n",
        "\n",
        "Y_one_hot = np_utils.to_categorical(encodedY)\n",
        "\n",
        "X_train,X_test,Y_train,Y_test = train_test_split(X,Y_one_hot,test_size=0.2,random_state=42)\n",
        "\n",
        "target = pd.DataFrame({'mood':df['mood'].tolist(),'encode':encodedY}).drop_duplicates().sort_values(['encode'],ascending=True)\n",
        "target"
      ],
      "metadata": {
        "colab": {
          "base_uri": "https://localhost:8080/",
          "height": 175
        },
        "id": "rEnBguCrPUqr",
        "outputId": "c3957f34-e72c-49cc-c744-a4405de7f9e8"
      },
      "execution_count": 8,
      "outputs": [
        {
          "output_type": "execute_result",
          "data": {
            "text/plain": [
              "        mood  encode\n",
              "5       Calm       0\n",
              "4  Energetic       1\n",
              "0      Happy       2\n",
              "1        Sad       3"
            ],
            "text/html": [
              "\n",
              "  <div id=\"df-dff868bc-725e-4f9e-965b-c4d0f036da13\">\n",
              "    <div class=\"colab-df-container\">\n",
              "      <div>\n",
              "<style scoped>\n",
              "    .dataframe tbody tr th:only-of-type {\n",
              "        vertical-align: middle;\n",
              "    }\n",
              "\n",
              "    .dataframe tbody tr th {\n",
              "        vertical-align: top;\n",
              "    }\n",
              "\n",
              "    .dataframe thead th {\n",
              "        text-align: right;\n",
              "    }\n",
              "</style>\n",
              "<table border=\"1\" class=\"dataframe\">\n",
              "  <thead>\n",
              "    <tr style=\"text-align: right;\">\n",
              "      <th></th>\n",
              "      <th>mood</th>\n",
              "      <th>encode</th>\n",
              "    </tr>\n",
              "  </thead>\n",
              "  <tbody>\n",
              "    <tr>\n",
              "      <th>5</th>\n",
              "      <td>Calm</td>\n",
              "      <td>0</td>\n",
              "    </tr>\n",
              "    <tr>\n",
              "      <th>4</th>\n",
              "      <td>Energetic</td>\n",
              "      <td>1</td>\n",
              "    </tr>\n",
              "    <tr>\n",
              "      <th>0</th>\n",
              "      <td>Happy</td>\n",
              "      <td>2</td>\n",
              "    </tr>\n",
              "    <tr>\n",
              "      <th>1</th>\n",
              "      <td>Sad</td>\n",
              "      <td>3</td>\n",
              "    </tr>\n",
              "  </tbody>\n",
              "</table>\n",
              "</div>\n",
              "      <button class=\"colab-df-convert\" onclick=\"convertToInteractive('df-dff868bc-725e-4f9e-965b-c4d0f036da13')\"\n",
              "              title=\"Convert this dataframe to an interactive table.\"\n",
              "              style=\"display:none;\">\n",
              "        \n",
              "  <svg xmlns=\"http://www.w3.org/2000/svg\" height=\"24px\"viewBox=\"0 0 24 24\"\n",
              "       width=\"24px\">\n",
              "    <path d=\"M0 0h24v24H0V0z\" fill=\"none\"/>\n",
              "    <path d=\"M18.56 5.44l.94 2.06.94-2.06 2.06-.94-2.06-.94-.94-2.06-.94 2.06-2.06.94zm-11 1L8.5 8.5l.94-2.06 2.06-.94-2.06-.94L8.5 2.5l-.94 2.06-2.06.94zm10 10l.94 2.06.94-2.06 2.06-.94-2.06-.94-.94-2.06-.94 2.06-2.06.94z\"/><path d=\"M17.41 7.96l-1.37-1.37c-.4-.4-.92-.59-1.43-.59-.52 0-1.04.2-1.43.59L10.3 9.45l-7.72 7.72c-.78.78-.78 2.05 0 2.83L4 21.41c.39.39.9.59 1.41.59.51 0 1.02-.2 1.41-.59l7.78-7.78 2.81-2.81c.8-.78.8-2.07 0-2.86zM5.41 20L4 18.59l7.72-7.72 1.47 1.35L5.41 20z\"/>\n",
              "  </svg>\n",
              "      </button>\n",
              "      \n",
              "  <style>\n",
              "    .colab-df-container {\n",
              "      display:flex;\n",
              "      flex-wrap:wrap;\n",
              "      gap: 12px;\n",
              "    }\n",
              "\n",
              "    .colab-df-convert {\n",
              "      background-color: #E8F0FE;\n",
              "      border: none;\n",
              "      border-radius: 50%;\n",
              "      cursor: pointer;\n",
              "      display: none;\n",
              "      fill: #1967D2;\n",
              "      height: 32px;\n",
              "      padding: 0 0 0 0;\n",
              "      width: 32px;\n",
              "    }\n",
              "\n",
              "    .colab-df-convert:hover {\n",
              "      background-color: #E2EBFA;\n",
              "      box-shadow: 0px 1px 2px rgba(60, 64, 67, 0.3), 0px 1px 3px 1px rgba(60, 64, 67, 0.15);\n",
              "      fill: #174EA6;\n",
              "    }\n",
              "\n",
              "    [theme=dark] .colab-df-convert {\n",
              "      background-color: #3B4455;\n",
              "      fill: #D2E3FC;\n",
              "    }\n",
              "\n",
              "    [theme=dark] .colab-df-convert:hover {\n",
              "      background-color: #434B5C;\n",
              "      box-shadow: 0px 1px 3px 1px rgba(0, 0, 0, 0.15);\n",
              "      filter: drop-shadow(0px 1px 2px rgba(0, 0, 0, 0.3));\n",
              "      fill: #FFFFFF;\n",
              "    }\n",
              "  </style>\n",
              "\n",
              "      <script>\n",
              "        const buttonEl =\n",
              "          document.querySelector('#df-dff868bc-725e-4f9e-965b-c4d0f036da13 button.colab-df-convert');\n",
              "        buttonEl.style.display =\n",
              "          google.colab.kernel.accessAllowed ? 'block' : 'none';\n",
              "\n",
              "        async function convertToInteractive(key) {\n",
              "          const element = document.querySelector('#df-dff868bc-725e-4f9e-965b-c4d0f036da13');\n",
              "          const dataTable =\n",
              "            await google.colab.kernel.invokeFunction('convertToInteractive',\n",
              "                                                     [key], {});\n",
              "          if (!dataTable) return;\n",
              "\n",
              "          const docLinkHtml = 'Like what you see? Visit the ' +\n",
              "            '<a target=\"_blank\" href=https://colab.research.google.com/notebooks/data_table.ipynb>data table notebook</a>'\n",
              "            + ' to learn more about interactive tables.';\n",
              "          element.innerHTML = '';\n",
              "          dataTable['output_type'] = 'display_data';\n",
              "          await google.colab.output.renderOutput(dataTable, element);\n",
              "          const docLink = document.createElement('div');\n",
              "          docLink.innerHTML = docLinkHtml;\n",
              "          element.appendChild(docLink);\n",
              "        }\n",
              "      </script>\n",
              "    </div>\n",
              "  </div>\n",
              "  "
            ]
          },
          "metadata": {},
          "execution_count": 8
        }
      ]
    },
    {
      "cell_type": "code",
      "source": [
        "song_moods = {0:'calm', 1:'energetic', 2:'happy', 3:\"sad\"}"
      ],
      "metadata": {
        "id": "jxKCKV2AlrYS"
      },
      "execution_count": 9,
      "outputs": []
    },
    {
      "cell_type": "code",
      "source": [
        "print(X_train.shape, Y_train.shape)"
      ],
      "metadata": {
        "colab": {
          "base_uri": "https://localhost:8080/"
        },
        "id": "Z0-0Zg2wmAJl",
        "outputId": "54093684-0768-4909-d936-f774d6d1ed9c"
      },
      "execution_count": 10,
      "outputs": [
        {
          "output_type": "stream",
          "name": "stdout",
          "text": [
            "(548, 9) (548, 4)\n"
          ]
        }
      ]
    },
    {
      "cell_type": "code",
      "source": [
        "def base_model():\n",
        "    model = Sequential()\n",
        "    model.add(Dense(8,input_dim=9,activation='relu'))\n",
        "    model.add(Dense(16,activation='relu'))\n",
        "    model.add(Dense(4,activation='softmax'))\n",
        "    model.compile(loss='categorical_crossentropy',optimizer='adam',\n",
        "                 metrics=['accuracy'])\n",
        "    return model\n"
      ],
      "metadata": {
        "id": "6PjPIlYiPqdf"
      },
      "execution_count": 11,
      "outputs": []
    },
    {
      "cell_type": "code",
      "source": [
        "# from tensorflow.keras import layers, callbacks"
      ],
      "metadata": {
        "id": "9h7M8sLBHYEr"
      },
      "execution_count": null,
      "outputs": []
    },
    {
      "cell_type": "code",
      "source": [
        "# early_stopping = callbacks.EarlyStopping(\n",
        "#   monitor='val_accuracy',\n",
        "#   min_delta=0.00005,\n",
        "#   patience=11,\n",
        "#   verbose=1,\n",
        "#   restore_best_weights=True\n",
        "# )\n",
        "\n",
        "# lr_scheduler = callbacks.ReduceLROnPlateau(\n",
        "#   monitor='val_accuracy',\n",
        "#   factor=0.5,\n",
        "#   patience=7,\n",
        "#   min_lr=1e-7,\n",
        "#   verbose=1\n",
        "# )\n",
        "\n",
        "# callbacks_list = [early_stopping, lr_scheduler]"
      ],
      "metadata": {
        "id": "OtxbLsjAFr8u"
      },
      "execution_count": null,
      "outputs": []
    },
    {
      "cell_type": "code",
      "source": [
        "model = base_model()\n",
        "model.summary()\n",
        "\n",
        "history = model.fit(\n",
        "    X_train, Y_train,\n",
        "    batch_size=32,\n",
        "    epochs=300,\n",
        "    validation_data=(X_test,Y_test),\n",
        "    verbose=1\n",
        ")"
      ],
      "metadata": {
        "colab": {
          "base_uri": "https://localhost:8080/"
        },
        "id": "tt58ZNrNHanN",
        "outputId": "5329ee54-20ea-4aa2-ed64-230788bf1c59"
      },
      "execution_count": 12,
      "outputs": [
        {
          "output_type": "stream",
          "name": "stdout",
          "text": [
            "Model: \"sequential\"\n",
            "_________________________________________________________________\n",
            " Layer (type)                Output Shape              Param #   \n",
            "=================================================================\n",
            " dense (Dense)               (None, 8)                 80        \n",
            "                                                                 \n",
            " dense_1 (Dense)             (None, 16)                144       \n",
            "                                                                 \n",
            " dense_2 (Dense)             (None, 4)                 68        \n",
            "                                                                 \n",
            "=================================================================\n",
            "Total params: 292\n",
            "Trainable params: 292\n",
            "Non-trainable params: 0\n",
            "_________________________________________________________________\n",
            "Epoch 1/300\n",
            "18/18 [==============================] - 1s 14ms/step - loss: 1.4541 - accuracy: 0.2318 - val_loss: 1.4017 - val_accuracy: 0.2464\n",
            "Epoch 2/300\n",
            "18/18 [==============================] - 0s 5ms/step - loss: 1.3842 - accuracy: 0.3467 - val_loss: 1.3397 - val_accuracy: 0.3551\n",
            "Epoch 3/300\n",
            "18/18 [==============================] - 0s 5ms/step - loss: 1.3220 - accuracy: 0.3850 - val_loss: 1.2828 - val_accuracy: 0.3986\n",
            "Epoch 4/300\n",
            "18/18 [==============================] - 0s 5ms/step - loss: 1.2661 - accuracy: 0.3978 - val_loss: 1.2328 - val_accuracy: 0.3986\n",
            "Epoch 5/300\n",
            "18/18 [==============================] - 0s 6ms/step - loss: 1.2144 - accuracy: 0.4617 - val_loss: 1.1807 - val_accuracy: 0.5072\n",
            "Epoch 6/300\n",
            "18/18 [==============================] - 0s 5ms/step - loss: 1.1657 - accuracy: 0.5547 - val_loss: 1.1335 - val_accuracy: 0.6159\n",
            "Epoch 7/300\n",
            "18/18 [==============================] - 0s 5ms/step - loss: 1.1199 - accuracy: 0.6259 - val_loss: 1.0858 - val_accuracy: 0.6522\n",
            "Epoch 8/300\n",
            "18/18 [==============================] - 0s 5ms/step - loss: 1.0726 - accuracy: 0.6569 - val_loss: 1.0355 - val_accuracy: 0.6739\n",
            "Epoch 9/300\n",
            "18/18 [==============================] - 0s 5ms/step - loss: 1.0260 - accuracy: 0.6661 - val_loss: 0.9882 - val_accuracy: 0.6739\n",
            "Epoch 10/300\n",
            "18/18 [==============================] - 0s 5ms/step - loss: 0.9797 - accuracy: 0.6807 - val_loss: 0.9394 - val_accuracy: 0.7174\n",
            "Epoch 11/300\n",
            "18/18 [==============================] - 0s 4ms/step - loss: 0.9360 - accuracy: 0.7208 - val_loss: 0.8963 - val_accuracy: 0.7464\n",
            "Epoch 12/300\n",
            "18/18 [==============================] - 0s 5ms/step - loss: 0.8973 - accuracy: 0.7318 - val_loss: 0.8560 - val_accuracy: 0.7391\n",
            "Epoch 13/300\n",
            "18/18 [==============================] - 0s 5ms/step - loss: 0.8589 - accuracy: 0.7281 - val_loss: 0.8189 - val_accuracy: 0.7536\n",
            "Epoch 14/300\n",
            "18/18 [==============================] - 0s 5ms/step - loss: 0.8258 - accuracy: 0.7391 - val_loss: 0.7869 - val_accuracy: 0.7464\n",
            "Epoch 15/300\n",
            "18/18 [==============================] - 0s 5ms/step - loss: 0.7951 - accuracy: 0.7464 - val_loss: 0.7546 - val_accuracy: 0.7464\n",
            "Epoch 16/300\n",
            "18/18 [==============================] - 0s 4ms/step - loss: 0.7670 - accuracy: 0.7555 - val_loss: 0.7280 - val_accuracy: 0.7681\n",
            "Epoch 17/300\n",
            "18/18 [==============================] - 0s 4ms/step - loss: 0.7415 - accuracy: 0.7701 - val_loss: 0.7075 - val_accuracy: 0.7754\n",
            "Epoch 18/300\n",
            "18/18 [==============================] - 0s 4ms/step - loss: 0.7193 - accuracy: 0.7774 - val_loss: 0.6829 - val_accuracy: 0.7826\n",
            "Epoch 19/300\n",
            "18/18 [==============================] - 0s 5ms/step - loss: 0.6993 - accuracy: 0.7774 - val_loss: 0.6647 - val_accuracy: 0.7826\n",
            "Epoch 20/300\n",
            "18/18 [==============================] - 0s 5ms/step - loss: 0.6811 - accuracy: 0.7609 - val_loss: 0.6466 - val_accuracy: 0.7754\n",
            "Epoch 21/300\n",
            "18/18 [==============================] - 0s 6ms/step - loss: 0.6647 - accuracy: 0.7774 - val_loss: 0.6325 - val_accuracy: 0.7971\n",
            "Epoch 22/300\n",
            "18/18 [==============================] - 0s 6ms/step - loss: 0.6522 - accuracy: 0.7737 - val_loss: 0.6186 - val_accuracy: 0.7754\n",
            "Epoch 23/300\n",
            "18/18 [==============================] - 0s 5ms/step - loss: 0.6376 - accuracy: 0.7810 - val_loss: 0.6064 - val_accuracy: 0.7754\n",
            "Epoch 24/300\n",
            "18/18 [==============================] - 0s 5ms/step - loss: 0.6247 - accuracy: 0.7774 - val_loss: 0.5944 - val_accuracy: 0.7754\n",
            "Epoch 25/300\n",
            "18/18 [==============================] - 0s 5ms/step - loss: 0.6142 - accuracy: 0.7646 - val_loss: 0.5866 - val_accuracy: 0.7754\n",
            "Epoch 26/300\n",
            "18/18 [==============================] - 0s 5ms/step - loss: 0.6032 - accuracy: 0.7755 - val_loss: 0.5769 - val_accuracy: 0.7971\n",
            "Epoch 27/300\n",
            "18/18 [==============================] - 0s 5ms/step - loss: 0.5944 - accuracy: 0.7828 - val_loss: 0.5703 - val_accuracy: 0.7826\n",
            "Epoch 28/300\n",
            "18/18 [==============================] - 0s 5ms/step - loss: 0.5859 - accuracy: 0.7865 - val_loss: 0.5633 - val_accuracy: 0.7971\n",
            "Epoch 29/300\n",
            "18/18 [==============================] - 0s 5ms/step - loss: 0.5774 - accuracy: 0.7901 - val_loss: 0.5574 - val_accuracy: 0.7971\n",
            "Epoch 30/300\n",
            "18/18 [==============================] - 0s 5ms/step - loss: 0.5706 - accuracy: 0.7792 - val_loss: 0.5522 - val_accuracy: 0.8043\n",
            "Epoch 31/300\n",
            "18/18 [==============================] - 0s 4ms/step - loss: 0.5653 - accuracy: 0.7938 - val_loss: 0.5478 - val_accuracy: 0.7971\n",
            "Epoch 32/300\n",
            "18/18 [==============================] - 0s 5ms/step - loss: 0.5586 - accuracy: 0.7883 - val_loss: 0.5447 - val_accuracy: 0.7971\n",
            "Epoch 33/300\n",
            "18/18 [==============================] - 0s 5ms/step - loss: 0.5535 - accuracy: 0.7938 - val_loss: 0.5405 - val_accuracy: 0.7899\n",
            "Epoch 34/300\n",
            "18/18 [==============================] - 0s 5ms/step - loss: 0.5477 - accuracy: 0.7865 - val_loss: 0.5363 - val_accuracy: 0.8043\n",
            "Epoch 35/300\n",
            "18/18 [==============================] - 0s 5ms/step - loss: 0.5453 - accuracy: 0.7847 - val_loss: 0.5345 - val_accuracy: 0.7971\n",
            "Epoch 36/300\n",
            "18/18 [==============================] - 0s 5ms/step - loss: 0.5395 - accuracy: 0.7847 - val_loss: 0.5316 - val_accuracy: 0.8116\n",
            "Epoch 37/300\n",
            "18/18 [==============================] - 0s 5ms/step - loss: 0.5350 - accuracy: 0.7774 - val_loss: 0.5281 - val_accuracy: 0.7971\n",
            "Epoch 38/300\n",
            "18/18 [==============================] - 0s 6ms/step - loss: 0.5286 - accuracy: 0.7956 - val_loss: 0.5260 - val_accuracy: 0.8116\n",
            "Epoch 39/300\n",
            "18/18 [==============================] - 0s 5ms/step - loss: 0.5275 - accuracy: 0.7938 - val_loss: 0.5236 - val_accuracy: 0.8043\n",
            "Epoch 40/300\n",
            "18/18 [==============================] - 0s 5ms/step - loss: 0.5229 - accuracy: 0.8011 - val_loss: 0.5234 - val_accuracy: 0.8043\n",
            "Epoch 41/300\n",
            "18/18 [==============================] - 0s 5ms/step - loss: 0.5200 - accuracy: 0.7974 - val_loss: 0.5209 - val_accuracy: 0.8116\n",
            "Epoch 42/300\n",
            "18/18 [==============================] - 0s 5ms/step - loss: 0.5147 - accuracy: 0.7883 - val_loss: 0.5185 - val_accuracy: 0.7971\n",
            "Epoch 43/300\n",
            "18/18 [==============================] - 0s 5ms/step - loss: 0.5112 - accuracy: 0.7901 - val_loss: 0.5172 - val_accuracy: 0.8043\n",
            "Epoch 44/300\n",
            "18/18 [==============================] - 0s 4ms/step - loss: 0.5100 - accuracy: 0.7993 - val_loss: 0.5159 - val_accuracy: 0.8043\n",
            "Epoch 45/300\n",
            "18/18 [==============================] - 0s 5ms/step - loss: 0.5102 - accuracy: 0.7974 - val_loss: 0.5148 - val_accuracy: 0.7971\n",
            "Epoch 46/300\n",
            "18/18 [==============================] - 0s 3ms/step - loss: 0.5029 - accuracy: 0.7938 - val_loss: 0.5137 - val_accuracy: 0.8116\n",
            "Epoch 47/300\n",
            "18/18 [==============================] - 0s 3ms/step - loss: 0.4994 - accuracy: 0.8011 - val_loss: 0.5129 - val_accuracy: 0.8043\n",
            "Epoch 48/300\n",
            "18/18 [==============================] - 0s 3ms/step - loss: 0.4986 - accuracy: 0.7956 - val_loss: 0.5139 - val_accuracy: 0.7971\n",
            "Epoch 49/300\n",
            "18/18 [==============================] - 0s 3ms/step - loss: 0.4954 - accuracy: 0.7956 - val_loss: 0.5118 - val_accuracy: 0.8116\n",
            "Epoch 50/300\n",
            "18/18 [==============================] - 0s 3ms/step - loss: 0.4944 - accuracy: 0.7974 - val_loss: 0.5129 - val_accuracy: 0.7971\n",
            "Epoch 51/300\n",
            "18/18 [==============================] - 0s 4ms/step - loss: 0.4945 - accuracy: 0.7974 - val_loss: 0.5111 - val_accuracy: 0.8043\n",
            "Epoch 52/300\n",
            "18/18 [==============================] - 0s 3ms/step - loss: 0.4884 - accuracy: 0.7938 - val_loss: 0.5111 - val_accuracy: 0.7971\n",
            "Epoch 53/300\n",
            "18/18 [==============================] - 0s 4ms/step - loss: 0.4870 - accuracy: 0.7974 - val_loss: 0.5104 - val_accuracy: 0.8043\n",
            "Epoch 54/300\n",
            "18/18 [==============================] - 0s 4ms/step - loss: 0.4863 - accuracy: 0.7974 - val_loss: 0.5106 - val_accuracy: 0.8043\n",
            "Epoch 55/300\n",
            "18/18 [==============================] - 0s 4ms/step - loss: 0.4845 - accuracy: 0.7938 - val_loss: 0.5091 - val_accuracy: 0.8043\n",
            "Epoch 56/300\n",
            "18/18 [==============================] - 0s 3ms/step - loss: 0.4806 - accuracy: 0.7938 - val_loss: 0.5080 - val_accuracy: 0.8043\n",
            "Epoch 57/300\n",
            "18/18 [==============================] - 0s 4ms/step - loss: 0.4781 - accuracy: 0.7956 - val_loss: 0.5076 - val_accuracy: 0.8116\n",
            "Epoch 58/300\n",
            "18/18 [==============================] - 0s 3ms/step - loss: 0.4758 - accuracy: 0.7974 - val_loss: 0.5070 - val_accuracy: 0.8116\n",
            "Epoch 59/300\n",
            "18/18 [==============================] - 0s 3ms/step - loss: 0.4776 - accuracy: 0.7938 - val_loss: 0.5074 - val_accuracy: 0.8043\n",
            "Epoch 60/300\n",
            "18/18 [==============================] - 0s 4ms/step - loss: 0.4736 - accuracy: 0.8011 - val_loss: 0.5073 - val_accuracy: 0.8043\n",
            "Epoch 61/300\n",
            "18/18 [==============================] - 0s 3ms/step - loss: 0.4710 - accuracy: 0.7974 - val_loss: 0.5070 - val_accuracy: 0.8116\n",
            "Epoch 62/300\n",
            "18/18 [==============================] - 0s 3ms/step - loss: 0.4698 - accuracy: 0.8029 - val_loss: 0.5071 - val_accuracy: 0.8043\n",
            "Epoch 63/300\n",
            "18/18 [==============================] - 0s 3ms/step - loss: 0.4688 - accuracy: 0.8029 - val_loss: 0.5072 - val_accuracy: 0.8043\n",
            "Epoch 64/300\n",
            "18/18 [==============================] - 0s 4ms/step - loss: 0.4673 - accuracy: 0.7974 - val_loss: 0.5072 - val_accuracy: 0.7971\n",
            "Epoch 65/300\n",
            "18/18 [==============================] - 0s 3ms/step - loss: 0.4646 - accuracy: 0.8029 - val_loss: 0.5071 - val_accuracy: 0.8043\n",
            "Epoch 66/300\n",
            "18/18 [==============================] - 0s 3ms/step - loss: 0.4661 - accuracy: 0.7974 - val_loss: 0.5074 - val_accuracy: 0.7971\n",
            "Epoch 67/300\n",
            "18/18 [==============================] - 0s 3ms/step - loss: 0.4642 - accuracy: 0.7938 - val_loss: 0.5057 - val_accuracy: 0.7971\n",
            "Epoch 68/300\n",
            "18/18 [==============================] - 0s 4ms/step - loss: 0.4631 - accuracy: 0.7920 - val_loss: 0.5076 - val_accuracy: 0.8043\n",
            "Epoch 69/300\n",
            "18/18 [==============================] - 0s 3ms/step - loss: 0.4620 - accuracy: 0.8011 - val_loss: 0.5056 - val_accuracy: 0.8043\n",
            "Epoch 70/300\n",
            "18/18 [==============================] - 0s 3ms/step - loss: 0.4594 - accuracy: 0.7974 - val_loss: 0.5051 - val_accuracy: 0.8116\n",
            "Epoch 71/300\n",
            "18/18 [==============================] - 0s 4ms/step - loss: 0.4562 - accuracy: 0.8029 - val_loss: 0.5046 - val_accuracy: 0.8043\n",
            "Epoch 72/300\n",
            "18/18 [==============================] - 0s 3ms/step - loss: 0.4576 - accuracy: 0.8047 - val_loss: 0.5047 - val_accuracy: 0.8043\n",
            "Epoch 73/300\n",
            "18/18 [==============================] - 0s 4ms/step - loss: 0.4582 - accuracy: 0.8066 - val_loss: 0.5065 - val_accuracy: 0.8043\n",
            "Epoch 74/300\n",
            "18/18 [==============================] - 0s 4ms/step - loss: 0.4536 - accuracy: 0.8120 - val_loss: 0.5064 - val_accuracy: 0.8043\n",
            "Epoch 75/300\n",
            "18/18 [==============================] - 0s 4ms/step - loss: 0.4534 - accuracy: 0.8102 - val_loss: 0.5063 - val_accuracy: 0.8188\n",
            "Epoch 76/300\n",
            "18/18 [==============================] - 0s 3ms/step - loss: 0.4529 - accuracy: 0.8102 - val_loss: 0.5065 - val_accuracy: 0.8116\n",
            "Epoch 77/300\n",
            "18/18 [==============================] - 0s 3ms/step - loss: 0.4493 - accuracy: 0.8029 - val_loss: 0.5061 - val_accuracy: 0.8043\n",
            "Epoch 78/300\n",
            "18/18 [==============================] - 0s 4ms/step - loss: 0.4493 - accuracy: 0.8175 - val_loss: 0.5068 - val_accuracy: 0.8116\n",
            "Epoch 79/300\n",
            "18/18 [==============================] - 0s 4ms/step - loss: 0.4513 - accuracy: 0.8157 - val_loss: 0.5070 - val_accuracy: 0.8188\n",
            "Epoch 80/300\n",
            "18/18 [==============================] - 0s 4ms/step - loss: 0.4479 - accuracy: 0.8120 - val_loss: 0.5077 - val_accuracy: 0.8188\n",
            "Epoch 81/300\n",
            "18/18 [==============================] - 0s 4ms/step - loss: 0.4438 - accuracy: 0.8102 - val_loss: 0.5067 - val_accuracy: 0.8116\n",
            "Epoch 82/300\n",
            "18/18 [==============================] - 0s 3ms/step - loss: 0.4481 - accuracy: 0.8084 - val_loss: 0.5067 - val_accuracy: 0.8116\n",
            "Epoch 83/300\n",
            "18/18 [==============================] - 0s 3ms/step - loss: 0.4433 - accuracy: 0.8139 - val_loss: 0.5063 - val_accuracy: 0.8116\n",
            "Epoch 84/300\n",
            "18/18 [==============================] - 0s 3ms/step - loss: 0.4428 - accuracy: 0.8120 - val_loss: 0.5066 - val_accuracy: 0.8116\n",
            "Epoch 85/300\n",
            "18/18 [==============================] - 0s 5ms/step - loss: 0.4433 - accuracy: 0.8102 - val_loss: 0.5081 - val_accuracy: 0.8043\n",
            "Epoch 86/300\n",
            "18/18 [==============================] - 0s 3ms/step - loss: 0.4429 - accuracy: 0.8157 - val_loss: 0.5070 - val_accuracy: 0.8116\n",
            "Epoch 87/300\n",
            "18/18 [==============================] - 0s 3ms/step - loss: 0.4399 - accuracy: 0.8157 - val_loss: 0.5064 - val_accuracy: 0.8116\n",
            "Epoch 88/300\n",
            "18/18 [==============================] - 0s 5ms/step - loss: 0.4384 - accuracy: 0.8212 - val_loss: 0.5069 - val_accuracy: 0.8043\n",
            "Epoch 89/300\n",
            "18/18 [==============================] - 0s 3ms/step - loss: 0.4411 - accuracy: 0.8102 - val_loss: 0.5087 - val_accuracy: 0.8116\n",
            "Epoch 90/300\n",
            "18/18 [==============================] - 0s 3ms/step - loss: 0.4401 - accuracy: 0.8175 - val_loss: 0.5079 - val_accuracy: 0.8043\n",
            "Epoch 91/300\n",
            "18/18 [==============================] - 0s 3ms/step - loss: 0.4366 - accuracy: 0.8029 - val_loss: 0.5082 - val_accuracy: 0.8116\n",
            "Epoch 92/300\n",
            "18/18 [==============================] - 0s 3ms/step - loss: 0.4407 - accuracy: 0.8157 - val_loss: 0.5094 - val_accuracy: 0.8116\n",
            "Epoch 93/300\n",
            "18/18 [==============================] - 0s 3ms/step - loss: 0.4350 - accuracy: 0.8230 - val_loss: 0.5090 - val_accuracy: 0.8043\n",
            "Epoch 94/300\n",
            "18/18 [==============================] - 0s 4ms/step - loss: 0.4357 - accuracy: 0.8047 - val_loss: 0.5102 - val_accuracy: 0.8116\n",
            "Epoch 95/300\n",
            "18/18 [==============================] - 0s 3ms/step - loss: 0.4360 - accuracy: 0.8157 - val_loss: 0.5097 - val_accuracy: 0.8116\n",
            "Epoch 96/300\n",
            "18/18 [==============================] - 0s 3ms/step - loss: 0.4354 - accuracy: 0.8175 - val_loss: 0.5095 - val_accuracy: 0.8043\n",
            "Epoch 97/300\n",
            "18/18 [==============================] - 0s 4ms/step - loss: 0.4339 - accuracy: 0.8157 - val_loss: 0.5097 - val_accuracy: 0.8043\n",
            "Epoch 98/300\n",
            "18/18 [==============================] - 0s 3ms/step - loss: 0.4343 - accuracy: 0.8120 - val_loss: 0.5122 - val_accuracy: 0.8116\n",
            "Epoch 99/300\n",
            "18/18 [==============================] - 0s 4ms/step - loss: 0.4325 - accuracy: 0.8139 - val_loss: 0.5107 - val_accuracy: 0.8043\n",
            "Epoch 100/300\n",
            "18/18 [==============================] - 0s 3ms/step - loss: 0.4361 - accuracy: 0.8102 - val_loss: 0.5106 - val_accuracy: 0.8116\n",
            "Epoch 101/300\n",
            "18/18 [==============================] - 0s 3ms/step - loss: 0.4296 - accuracy: 0.8212 - val_loss: 0.5090 - val_accuracy: 0.8043\n",
            "Epoch 102/300\n",
            "18/18 [==============================] - 0s 4ms/step - loss: 0.4295 - accuracy: 0.8212 - val_loss: 0.5095 - val_accuracy: 0.8043\n",
            "Epoch 103/300\n",
            "18/18 [==============================] - 0s 4ms/step - loss: 0.4294 - accuracy: 0.8139 - val_loss: 0.5094 - val_accuracy: 0.8116\n",
            "Epoch 104/300\n",
            "18/18 [==============================] - 0s 3ms/step - loss: 0.4284 - accuracy: 0.8230 - val_loss: 0.5099 - val_accuracy: 0.8043\n",
            "Epoch 105/300\n",
            "18/18 [==============================] - 0s 4ms/step - loss: 0.4280 - accuracy: 0.8230 - val_loss: 0.5110 - val_accuracy: 0.8043\n",
            "Epoch 106/300\n",
            "18/18 [==============================] - 0s 3ms/step - loss: 0.4263 - accuracy: 0.8248 - val_loss: 0.5098 - val_accuracy: 0.8043\n",
            "Epoch 107/300\n",
            "18/18 [==============================] - 0s 3ms/step - loss: 0.4298 - accuracy: 0.8139 - val_loss: 0.5097 - val_accuracy: 0.8043\n",
            "Epoch 108/300\n",
            "18/18 [==============================] - 0s 4ms/step - loss: 0.4257 - accuracy: 0.8248 - val_loss: 0.5119 - val_accuracy: 0.8043\n",
            "Epoch 109/300\n",
            "18/18 [==============================] - 0s 3ms/step - loss: 0.4267 - accuracy: 0.8193 - val_loss: 0.5105 - val_accuracy: 0.8043\n",
            "Epoch 110/300\n",
            "18/18 [==============================] - 0s 3ms/step - loss: 0.4255 - accuracy: 0.8193 - val_loss: 0.5093 - val_accuracy: 0.8043\n",
            "Epoch 111/300\n",
            "18/18 [==============================] - 0s 3ms/step - loss: 0.4238 - accuracy: 0.8212 - val_loss: 0.5104 - val_accuracy: 0.8116\n",
            "Epoch 112/300\n",
            "18/18 [==============================] - 0s 3ms/step - loss: 0.4245 - accuracy: 0.8266 - val_loss: 0.5100 - val_accuracy: 0.8043\n",
            "Epoch 113/300\n",
            "18/18 [==============================] - 0s 3ms/step - loss: 0.4227 - accuracy: 0.8193 - val_loss: 0.5100 - val_accuracy: 0.8043\n",
            "Epoch 114/300\n",
            "18/18 [==============================] - 0s 3ms/step - loss: 0.4229 - accuracy: 0.8248 - val_loss: 0.5095 - val_accuracy: 0.8043\n",
            "Epoch 115/300\n",
            "18/18 [==============================] - 0s 3ms/step - loss: 0.4252 - accuracy: 0.8175 - val_loss: 0.5100 - val_accuracy: 0.8043\n",
            "Epoch 116/300\n",
            "18/18 [==============================] - 0s 3ms/step - loss: 0.4255 - accuracy: 0.8266 - val_loss: 0.5117 - val_accuracy: 0.8116\n",
            "Epoch 117/300\n",
            "18/18 [==============================] - 0s 4ms/step - loss: 0.4236 - accuracy: 0.8193 - val_loss: 0.5099 - val_accuracy: 0.8116\n",
            "Epoch 118/300\n",
            "18/18 [==============================] - 0s 3ms/step - loss: 0.4211 - accuracy: 0.8193 - val_loss: 0.5100 - val_accuracy: 0.8043\n",
            "Epoch 119/300\n",
            "18/18 [==============================] - 0s 4ms/step - loss: 0.4212 - accuracy: 0.8212 - val_loss: 0.5109 - val_accuracy: 0.8116\n",
            "Epoch 120/300\n",
            "18/18 [==============================] - 0s 4ms/step - loss: 0.4204 - accuracy: 0.8248 - val_loss: 0.5103 - val_accuracy: 0.8116\n",
            "Epoch 121/300\n",
            "18/18 [==============================] - 0s 3ms/step - loss: 0.4200 - accuracy: 0.8248 - val_loss: 0.5111 - val_accuracy: 0.8116\n",
            "Epoch 122/300\n",
            "18/18 [==============================] - 0s 4ms/step - loss: 0.4221 - accuracy: 0.8321 - val_loss: 0.5116 - val_accuracy: 0.8116\n",
            "Epoch 123/300\n",
            "18/18 [==============================] - 0s 3ms/step - loss: 0.4199 - accuracy: 0.8248 - val_loss: 0.5117 - val_accuracy: 0.8043\n",
            "Epoch 124/300\n",
            "18/18 [==============================] - 0s 3ms/step - loss: 0.4191 - accuracy: 0.8212 - val_loss: 0.5116 - val_accuracy: 0.8043\n",
            "Epoch 125/300\n",
            "18/18 [==============================] - 0s 4ms/step - loss: 0.4222 - accuracy: 0.8175 - val_loss: 0.5123 - val_accuracy: 0.8116\n",
            "Epoch 126/300\n",
            "18/18 [==============================] - 0s 3ms/step - loss: 0.4163 - accuracy: 0.8248 - val_loss: 0.5129 - val_accuracy: 0.8043\n",
            "Epoch 127/300\n",
            "18/18 [==============================] - 0s 4ms/step - loss: 0.4175 - accuracy: 0.8248 - val_loss: 0.5126 - val_accuracy: 0.8116\n",
            "Epoch 128/300\n",
            "18/18 [==============================] - 0s 4ms/step - loss: 0.4173 - accuracy: 0.8248 - val_loss: 0.5128 - val_accuracy: 0.7971\n",
            "Epoch 129/300\n",
            "18/18 [==============================] - 0s 3ms/step - loss: 0.4166 - accuracy: 0.8303 - val_loss: 0.5131 - val_accuracy: 0.8116\n",
            "Epoch 130/300\n",
            "18/18 [==============================] - 0s 4ms/step - loss: 0.4187 - accuracy: 0.8248 - val_loss: 0.5155 - val_accuracy: 0.8043\n",
            "Epoch 131/300\n",
            "18/18 [==============================] - 0s 4ms/step - loss: 0.4188 - accuracy: 0.8193 - val_loss: 0.5141 - val_accuracy: 0.7971\n",
            "Epoch 132/300\n",
            "18/18 [==============================] - 0s 3ms/step - loss: 0.4157 - accuracy: 0.8266 - val_loss: 0.5150 - val_accuracy: 0.8043\n",
            "Epoch 133/300\n",
            "18/18 [==============================] - 0s 4ms/step - loss: 0.4150 - accuracy: 0.8212 - val_loss: 0.5137 - val_accuracy: 0.8116\n",
            "Epoch 134/300\n",
            "18/18 [==============================] - 0s 3ms/step - loss: 0.4136 - accuracy: 0.8285 - val_loss: 0.5141 - val_accuracy: 0.8116\n",
            "Epoch 135/300\n",
            "18/18 [==============================] - 0s 3ms/step - loss: 0.4134 - accuracy: 0.8248 - val_loss: 0.5139 - val_accuracy: 0.7971\n",
            "Epoch 136/300\n",
            "18/18 [==============================] - 0s 4ms/step - loss: 0.4140 - accuracy: 0.8321 - val_loss: 0.5150 - val_accuracy: 0.8188\n",
            "Epoch 137/300\n",
            "18/18 [==============================] - 0s 5ms/step - loss: 0.4153 - accuracy: 0.8266 - val_loss: 0.5154 - val_accuracy: 0.8116\n",
            "Epoch 138/300\n",
            "18/18 [==============================] - 0s 3ms/step - loss: 0.4137 - accuracy: 0.8230 - val_loss: 0.5159 - val_accuracy: 0.8116\n",
            "Epoch 139/300\n",
            "18/18 [==============================] - 0s 3ms/step - loss: 0.4151 - accuracy: 0.8230 - val_loss: 0.5158 - val_accuracy: 0.7899\n",
            "Epoch 140/300\n",
            "18/18 [==============================] - 0s 3ms/step - loss: 0.4154 - accuracy: 0.8248 - val_loss: 0.5160 - val_accuracy: 0.8043\n",
            "Epoch 141/300\n",
            "18/18 [==============================] - 0s 3ms/step - loss: 0.4116 - accuracy: 0.8266 - val_loss: 0.5164 - val_accuracy: 0.8043\n",
            "Epoch 142/300\n",
            "18/18 [==============================] - 0s 3ms/step - loss: 0.4119 - accuracy: 0.8230 - val_loss: 0.5179 - val_accuracy: 0.8043\n",
            "Epoch 143/300\n",
            "18/18 [==============================] - 0s 4ms/step - loss: 0.4119 - accuracy: 0.8285 - val_loss: 0.5170 - val_accuracy: 0.8116\n",
            "Epoch 144/300\n",
            "18/18 [==============================] - 0s 3ms/step - loss: 0.4114 - accuracy: 0.8230 - val_loss: 0.5170 - val_accuracy: 0.8043\n",
            "Epoch 145/300\n",
            "18/18 [==============================] - 0s 3ms/step - loss: 0.4106 - accuracy: 0.8285 - val_loss: 0.5173 - val_accuracy: 0.8116\n",
            "Epoch 146/300\n",
            "18/18 [==============================] - 0s 4ms/step - loss: 0.4108 - accuracy: 0.8230 - val_loss: 0.5183 - val_accuracy: 0.7899\n",
            "Epoch 147/300\n",
            "18/18 [==============================] - 0s 3ms/step - loss: 0.4110 - accuracy: 0.8339 - val_loss: 0.5186 - val_accuracy: 0.8043\n",
            "Epoch 148/300\n",
            "18/18 [==============================] - 0s 4ms/step - loss: 0.4097 - accuracy: 0.8266 - val_loss: 0.5166 - val_accuracy: 0.8043\n",
            "Epoch 149/300\n",
            "18/18 [==============================] - 0s 3ms/step - loss: 0.4110 - accuracy: 0.8303 - val_loss: 0.5172 - val_accuracy: 0.8116\n",
            "Epoch 150/300\n",
            "18/18 [==============================] - 0s 3ms/step - loss: 0.4100 - accuracy: 0.8266 - val_loss: 0.5188 - val_accuracy: 0.8043\n",
            "Epoch 151/300\n",
            "18/18 [==============================] - 0s 3ms/step - loss: 0.4095 - accuracy: 0.8285 - val_loss: 0.5183 - val_accuracy: 0.8043\n",
            "Epoch 152/300\n",
            "18/18 [==============================] - 0s 3ms/step - loss: 0.4098 - accuracy: 0.8339 - val_loss: 0.5183 - val_accuracy: 0.8043\n",
            "Epoch 153/300\n",
            "18/18 [==============================] - 0s 4ms/step - loss: 0.4080 - accuracy: 0.8285 - val_loss: 0.5186 - val_accuracy: 0.8043\n",
            "Epoch 154/300\n",
            "18/18 [==============================] - 0s 3ms/step - loss: 0.4082 - accuracy: 0.8266 - val_loss: 0.5196 - val_accuracy: 0.7971\n",
            "Epoch 155/300\n",
            "18/18 [==============================] - 0s 3ms/step - loss: 0.4075 - accuracy: 0.8339 - val_loss: 0.5190 - val_accuracy: 0.8043\n",
            "Epoch 156/300\n",
            "18/18 [==============================] - 0s 4ms/step - loss: 0.4083 - accuracy: 0.8230 - val_loss: 0.5191 - val_accuracy: 0.8043\n",
            "Epoch 157/300\n",
            "18/18 [==============================] - 0s 3ms/step - loss: 0.4077 - accuracy: 0.8248 - val_loss: 0.5208 - val_accuracy: 0.7971\n",
            "Epoch 158/300\n",
            "18/18 [==============================] - 0s 3ms/step - loss: 0.4073 - accuracy: 0.8285 - val_loss: 0.5198 - val_accuracy: 0.7971\n",
            "Epoch 159/300\n",
            "18/18 [==============================] - 0s 4ms/step - loss: 0.4074 - accuracy: 0.8303 - val_loss: 0.5201 - val_accuracy: 0.7971\n",
            "Epoch 160/300\n",
            "18/18 [==============================] - 0s 3ms/step - loss: 0.4119 - accuracy: 0.8248 - val_loss: 0.5201 - val_accuracy: 0.7971\n",
            "Epoch 161/300\n",
            "18/18 [==============================] - 0s 4ms/step - loss: 0.4077 - accuracy: 0.8303 - val_loss: 0.5215 - val_accuracy: 0.8043\n",
            "Epoch 162/300\n",
            "18/18 [==============================] - 0s 3ms/step - loss: 0.4078 - accuracy: 0.8248 - val_loss: 0.5216 - val_accuracy: 0.8043\n",
            "Epoch 163/300\n",
            "18/18 [==============================] - 0s 3ms/step - loss: 0.4057 - accuracy: 0.8212 - val_loss: 0.5209 - val_accuracy: 0.8043\n",
            "Epoch 164/300\n",
            "18/18 [==============================] - 0s 4ms/step - loss: 0.4076 - accuracy: 0.8303 - val_loss: 0.5220 - val_accuracy: 0.7971\n",
            "Epoch 165/300\n",
            "18/18 [==============================] - 0s 3ms/step - loss: 0.4118 - accuracy: 0.8248 - val_loss: 0.5239 - val_accuracy: 0.8043\n",
            "Epoch 166/300\n",
            "18/18 [==============================] - 0s 4ms/step - loss: 0.4071 - accuracy: 0.8266 - val_loss: 0.5215 - val_accuracy: 0.7971\n",
            "Epoch 167/300\n",
            "18/18 [==============================] - 0s 4ms/step - loss: 0.4068 - accuracy: 0.8339 - val_loss: 0.5232 - val_accuracy: 0.7971\n",
            "Epoch 168/300\n",
            "18/18 [==============================] - 0s 3ms/step - loss: 0.4038 - accuracy: 0.8266 - val_loss: 0.5227 - val_accuracy: 0.7899\n",
            "Epoch 169/300\n",
            "18/18 [==============================] - 0s 4ms/step - loss: 0.4075 - accuracy: 0.8339 - val_loss: 0.5234 - val_accuracy: 0.7971\n",
            "Epoch 170/300\n",
            "18/18 [==============================] - 0s 3ms/step - loss: 0.4050 - accuracy: 0.8266 - val_loss: 0.5224 - val_accuracy: 0.8116\n",
            "Epoch 171/300\n",
            "18/18 [==============================] - 0s 3ms/step - loss: 0.4099 - accuracy: 0.8139 - val_loss: 0.5223 - val_accuracy: 0.7971\n",
            "Epoch 172/300\n",
            "18/18 [==============================] - 0s 3ms/step - loss: 0.4057 - accuracy: 0.8285 - val_loss: 0.5253 - val_accuracy: 0.8043\n",
            "Epoch 173/300\n",
            "18/18 [==============================] - 0s 4ms/step - loss: 0.4045 - accuracy: 0.8230 - val_loss: 0.5222 - val_accuracy: 0.7899\n",
            "Epoch 174/300\n",
            "18/18 [==============================] - 0s 4ms/step - loss: 0.4063 - accuracy: 0.8266 - val_loss: 0.5264 - val_accuracy: 0.8043\n",
            "Epoch 175/300\n",
            "18/18 [==============================] - 0s 3ms/step - loss: 0.4109 - accuracy: 0.8339 - val_loss: 0.5248 - val_accuracy: 0.7971\n",
            "Epoch 176/300\n",
            "18/18 [==============================] - 0s 3ms/step - loss: 0.4044 - accuracy: 0.8248 - val_loss: 0.5261 - val_accuracy: 0.7971\n",
            "Epoch 177/300\n",
            "18/18 [==============================] - 0s 4ms/step - loss: 0.4080 - accuracy: 0.8285 - val_loss: 0.5248 - val_accuracy: 0.7899\n",
            "Epoch 178/300\n",
            "18/18 [==============================] - 0s 3ms/step - loss: 0.4027 - accuracy: 0.8285 - val_loss: 0.5244 - val_accuracy: 0.7971\n",
            "Epoch 179/300\n",
            "18/18 [==============================] - 0s 3ms/step - loss: 0.4039 - accuracy: 0.8339 - val_loss: 0.5263 - val_accuracy: 0.7971\n",
            "Epoch 180/300\n",
            "18/18 [==============================] - 0s 3ms/step - loss: 0.4024 - accuracy: 0.8266 - val_loss: 0.5250 - val_accuracy: 0.7971\n",
            "Epoch 181/300\n",
            "18/18 [==============================] - 0s 3ms/step - loss: 0.4054 - accuracy: 0.8266 - val_loss: 0.5258 - val_accuracy: 0.7971\n",
            "Epoch 182/300\n",
            "18/18 [==============================] - 0s 4ms/step - loss: 0.4022 - accuracy: 0.8212 - val_loss: 0.5251 - val_accuracy: 0.8043\n",
            "Epoch 183/300\n",
            "18/18 [==============================] - 0s 4ms/step - loss: 0.4048 - accuracy: 0.8175 - val_loss: 0.5253 - val_accuracy: 0.7971\n",
            "Epoch 184/300\n",
            "18/18 [==============================] - 0s 6ms/step - loss: 0.4023 - accuracy: 0.8230 - val_loss: 0.5255 - val_accuracy: 0.7899\n",
            "Epoch 185/300\n",
            "18/18 [==============================] - 0s 5ms/step - loss: 0.4019 - accuracy: 0.8230 - val_loss: 0.5248 - val_accuracy: 0.7971\n",
            "Epoch 186/300\n",
            "18/18 [==============================] - 0s 5ms/step - loss: 0.4009 - accuracy: 0.8230 - val_loss: 0.5249 - val_accuracy: 0.7899\n",
            "Epoch 187/300\n",
            "18/18 [==============================] - 0s 5ms/step - loss: 0.4009 - accuracy: 0.8285 - val_loss: 0.5263 - val_accuracy: 0.7971\n",
            "Epoch 188/300\n",
            "18/18 [==============================] - 0s 5ms/step - loss: 0.3990 - accuracy: 0.8248 - val_loss: 0.5258 - val_accuracy: 0.7971\n",
            "Epoch 189/300\n",
            "18/18 [==============================] - 0s 4ms/step - loss: 0.4039 - accuracy: 0.8248 - val_loss: 0.5270 - val_accuracy: 0.7899\n",
            "Epoch 190/300\n",
            "18/18 [==============================] - 0s 5ms/step - loss: 0.4024 - accuracy: 0.8248 - val_loss: 0.5272 - val_accuracy: 0.7971\n",
            "Epoch 191/300\n",
            "18/18 [==============================] - 0s 5ms/step - loss: 0.4050 - accuracy: 0.8376 - val_loss: 0.5269 - val_accuracy: 0.7971\n",
            "Epoch 192/300\n",
            "18/18 [==============================] - 0s 6ms/step - loss: 0.4014 - accuracy: 0.8303 - val_loss: 0.5253 - val_accuracy: 0.7899\n",
            "Epoch 193/300\n",
            "18/18 [==============================] - 0s 5ms/step - loss: 0.3999 - accuracy: 0.8339 - val_loss: 0.5272 - val_accuracy: 0.8043\n",
            "Epoch 194/300\n",
            "18/18 [==============================] - 0s 5ms/step - loss: 0.3982 - accuracy: 0.8303 - val_loss: 0.5254 - val_accuracy: 0.7971\n",
            "Epoch 195/300\n",
            "18/18 [==============================] - 0s 6ms/step - loss: 0.4042 - accuracy: 0.8157 - val_loss: 0.5244 - val_accuracy: 0.8043\n",
            "Epoch 196/300\n",
            "18/18 [==============================] - 0s 6ms/step - loss: 0.3998 - accuracy: 0.8285 - val_loss: 0.5266 - val_accuracy: 0.7971\n",
            "Epoch 197/300\n",
            "18/18 [==============================] - 0s 6ms/step - loss: 0.4027 - accuracy: 0.8358 - val_loss: 0.5258 - val_accuracy: 0.7899\n",
            "Epoch 198/300\n",
            "18/18 [==============================] - 0s 6ms/step - loss: 0.4059 - accuracy: 0.8248 - val_loss: 0.5248 - val_accuracy: 0.7899\n",
            "Epoch 199/300\n",
            "18/18 [==============================] - 0s 6ms/step - loss: 0.4049 - accuracy: 0.8376 - val_loss: 0.5270 - val_accuracy: 0.7899\n",
            "Epoch 200/300\n",
            "18/18 [==============================] - 0s 6ms/step - loss: 0.4015 - accuracy: 0.8321 - val_loss: 0.5257 - val_accuracy: 0.8043\n",
            "Epoch 201/300\n",
            "18/18 [==============================] - 0s 5ms/step - loss: 0.4008 - accuracy: 0.8303 - val_loss: 0.5290 - val_accuracy: 0.8043\n",
            "Epoch 202/300\n",
            "18/18 [==============================] - 0s 5ms/step - loss: 0.4005 - accuracy: 0.8248 - val_loss: 0.5266 - val_accuracy: 0.8116\n",
            "Epoch 203/300\n",
            "18/18 [==============================] - 0s 5ms/step - loss: 0.3998 - accuracy: 0.8230 - val_loss: 0.5246 - val_accuracy: 0.8043\n",
            "Epoch 204/300\n",
            "18/18 [==============================] - 0s 5ms/step - loss: 0.3975 - accuracy: 0.8266 - val_loss: 0.5260 - val_accuracy: 0.8043\n",
            "Epoch 205/300\n",
            "18/18 [==============================] - 0s 5ms/step - loss: 0.3981 - accuracy: 0.8248 - val_loss: 0.5262 - val_accuracy: 0.7971\n",
            "Epoch 206/300\n",
            "18/18 [==============================] - 0s 6ms/step - loss: 0.3986 - accuracy: 0.8266 - val_loss: 0.5270 - val_accuracy: 0.8116\n",
            "Epoch 207/300\n",
            "18/18 [==============================] - 0s 5ms/step - loss: 0.3979 - accuracy: 0.8321 - val_loss: 0.5258 - val_accuracy: 0.7899\n",
            "Epoch 208/300\n",
            "18/18 [==============================] - 0s 7ms/step - loss: 0.3962 - accuracy: 0.8266 - val_loss: 0.5261 - val_accuracy: 0.7899\n",
            "Epoch 209/300\n",
            "18/18 [==============================] - 0s 5ms/step - loss: 0.3974 - accuracy: 0.8248 - val_loss: 0.5249 - val_accuracy: 0.8043\n",
            "Epoch 210/300\n",
            "18/18 [==============================] - 0s 6ms/step - loss: 0.3970 - accuracy: 0.8321 - val_loss: 0.5261 - val_accuracy: 0.8043\n",
            "Epoch 211/300\n",
            "18/18 [==============================] - 0s 7ms/step - loss: 0.3950 - accuracy: 0.8321 - val_loss: 0.5256 - val_accuracy: 0.7971\n",
            "Epoch 212/300\n",
            "18/18 [==============================] - 0s 6ms/step - loss: 0.3963 - accuracy: 0.8303 - val_loss: 0.5262 - val_accuracy: 0.7899\n",
            "Epoch 213/300\n",
            "18/18 [==============================] - 0s 5ms/step - loss: 0.3955 - accuracy: 0.8266 - val_loss: 0.5268 - val_accuracy: 0.8043\n",
            "Epoch 214/300\n",
            "18/18 [==============================] - 0s 5ms/step - loss: 0.3987 - accuracy: 0.8358 - val_loss: 0.5273 - val_accuracy: 0.7826\n",
            "Epoch 215/300\n",
            "18/18 [==============================] - 0s 5ms/step - loss: 0.3976 - accuracy: 0.8266 - val_loss: 0.5273 - val_accuracy: 0.7826\n",
            "Epoch 216/300\n",
            "18/18 [==============================] - 0s 5ms/step - loss: 0.3933 - accuracy: 0.8285 - val_loss: 0.5253 - val_accuracy: 0.8116\n",
            "Epoch 217/300\n",
            "18/18 [==============================] - 0s 6ms/step - loss: 0.4019 - accuracy: 0.8339 - val_loss: 0.5247 - val_accuracy: 0.8043\n",
            "Epoch 218/300\n",
            "18/18 [==============================] - 0s 6ms/step - loss: 0.3999 - accuracy: 0.8248 - val_loss: 0.5240 - val_accuracy: 0.8043\n",
            "Epoch 219/300\n",
            "18/18 [==============================] - 0s 6ms/step - loss: 0.3969 - accuracy: 0.8394 - val_loss: 0.5258 - val_accuracy: 0.8043\n",
            "Epoch 220/300\n",
            "18/18 [==============================] - 0s 5ms/step - loss: 0.3952 - accuracy: 0.8266 - val_loss: 0.5245 - val_accuracy: 0.7971\n",
            "Epoch 221/300\n",
            "18/18 [==============================] - 0s 6ms/step - loss: 0.3928 - accuracy: 0.8285 - val_loss: 0.5239 - val_accuracy: 0.7971\n",
            "Epoch 222/300\n",
            "18/18 [==============================] - 0s 6ms/step - loss: 0.3929 - accuracy: 0.8248 - val_loss: 0.5238 - val_accuracy: 0.7971\n",
            "Epoch 223/300\n",
            "18/18 [==============================] - 0s 5ms/step - loss: 0.3944 - accuracy: 0.8230 - val_loss: 0.5242 - val_accuracy: 0.8043\n",
            "Epoch 224/300\n",
            "18/18 [==============================] - 0s 5ms/step - loss: 0.3920 - accuracy: 0.8285 - val_loss: 0.5266 - val_accuracy: 0.7826\n",
            "Epoch 225/300\n",
            "18/18 [==============================] - 0s 7ms/step - loss: 0.3922 - accuracy: 0.8266 - val_loss: 0.5243 - val_accuracy: 0.8043\n",
            "Epoch 226/300\n",
            "18/18 [==============================] - 0s 5ms/step - loss: 0.3912 - accuracy: 0.8285 - val_loss: 0.5243 - val_accuracy: 0.8043\n",
            "Epoch 227/300\n",
            "18/18 [==============================] - 0s 4ms/step - loss: 0.3898 - accuracy: 0.8339 - val_loss: 0.5254 - val_accuracy: 0.8116\n",
            "Epoch 228/300\n",
            "18/18 [==============================] - 0s 3ms/step - loss: 0.3903 - accuracy: 0.8394 - val_loss: 0.5262 - val_accuracy: 0.7971\n",
            "Epoch 229/300\n",
            "18/18 [==============================] - 0s 4ms/step - loss: 0.3892 - accuracy: 0.8358 - val_loss: 0.5261 - val_accuracy: 0.8043\n",
            "Epoch 230/300\n",
            "18/18 [==============================] - 0s 3ms/step - loss: 0.3892 - accuracy: 0.8412 - val_loss: 0.5260 - val_accuracy: 0.8043\n",
            "Epoch 231/300\n",
            "18/18 [==============================] - 0s 4ms/step - loss: 0.3937 - accuracy: 0.8266 - val_loss: 0.5289 - val_accuracy: 0.8043\n",
            "Epoch 232/300\n",
            "18/18 [==============================] - 0s 3ms/step - loss: 0.3886 - accuracy: 0.8358 - val_loss: 0.5292 - val_accuracy: 0.7899\n",
            "Epoch 233/300\n",
            "18/18 [==============================] - 0s 4ms/step - loss: 0.3901 - accuracy: 0.8358 - val_loss: 0.5288 - val_accuracy: 0.7971\n",
            "Epoch 234/300\n",
            "18/18 [==============================] - 0s 3ms/step - loss: 0.3894 - accuracy: 0.8394 - val_loss: 0.5277 - val_accuracy: 0.7971\n",
            "Epoch 235/300\n",
            "18/18 [==============================] - 0s 4ms/step - loss: 0.3864 - accuracy: 0.8376 - val_loss: 0.5274 - val_accuracy: 0.7971\n",
            "Epoch 236/300\n",
            "18/18 [==============================] - 0s 3ms/step - loss: 0.3871 - accuracy: 0.8339 - val_loss: 0.5279 - val_accuracy: 0.7971\n",
            "Epoch 237/300\n",
            "18/18 [==============================] - 0s 4ms/step - loss: 0.3868 - accuracy: 0.8376 - val_loss: 0.5313 - val_accuracy: 0.7899\n",
            "Epoch 238/300\n",
            "18/18 [==============================] - 0s 5ms/step - loss: 0.3883 - accuracy: 0.8358 - val_loss: 0.5286 - val_accuracy: 0.8043\n",
            "Epoch 239/300\n",
            "18/18 [==============================] - 0s 5ms/step - loss: 0.3919 - accuracy: 0.8285 - val_loss: 0.5313 - val_accuracy: 0.7971\n",
            "Epoch 240/300\n",
            "18/18 [==============================] - 0s 4ms/step - loss: 0.3868 - accuracy: 0.8376 - val_loss: 0.5261 - val_accuracy: 0.8043\n",
            "Epoch 241/300\n",
            "18/18 [==============================] - 0s 4ms/step - loss: 0.3882 - accuracy: 0.8321 - val_loss: 0.5249 - val_accuracy: 0.8043\n",
            "Epoch 242/300\n",
            "18/18 [==============================] - 0s 3ms/step - loss: 0.3859 - accuracy: 0.8285 - val_loss: 0.5275 - val_accuracy: 0.8043\n",
            "Epoch 243/300\n",
            "18/18 [==============================] - 0s 3ms/step - loss: 0.3858 - accuracy: 0.8339 - val_loss: 0.5341 - val_accuracy: 0.7971\n",
            "Epoch 244/300\n",
            "18/18 [==============================] - 0s 3ms/step - loss: 0.3866 - accuracy: 0.8358 - val_loss: 0.5296 - val_accuracy: 0.8043\n",
            "Epoch 245/300\n",
            "18/18 [==============================] - 0s 3ms/step - loss: 0.3840 - accuracy: 0.8394 - val_loss: 0.5282 - val_accuracy: 0.7971\n",
            "Epoch 246/300\n",
            "18/18 [==============================] - 0s 4ms/step - loss: 0.3838 - accuracy: 0.8321 - val_loss: 0.5261 - val_accuracy: 0.8043\n",
            "Epoch 247/300\n",
            "18/18 [==============================] - 0s 4ms/step - loss: 0.3893 - accuracy: 0.8394 - val_loss: 0.5282 - val_accuracy: 0.8116\n",
            "Epoch 248/300\n",
            "18/18 [==============================] - 0s 4ms/step - loss: 0.3825 - accuracy: 0.8394 - val_loss: 0.5305 - val_accuracy: 0.7971\n",
            "Epoch 249/300\n",
            "18/18 [==============================] - 0s 4ms/step - loss: 0.3846 - accuracy: 0.8321 - val_loss: 0.5302 - val_accuracy: 0.7971\n",
            "Epoch 250/300\n",
            "18/18 [==============================] - 0s 3ms/step - loss: 0.3816 - accuracy: 0.8376 - val_loss: 0.5298 - val_accuracy: 0.7971\n",
            "Epoch 251/300\n",
            "18/18 [==============================] - 0s 4ms/step - loss: 0.3857 - accuracy: 0.8431 - val_loss: 0.5306 - val_accuracy: 0.8116\n",
            "Epoch 252/300\n",
            "18/18 [==============================] - 0s 4ms/step - loss: 0.3835 - accuracy: 0.8358 - val_loss: 0.5294 - val_accuracy: 0.7971\n",
            "Epoch 253/300\n",
            "18/18 [==============================] - 0s 4ms/step - loss: 0.3823 - accuracy: 0.8376 - val_loss: 0.5289 - val_accuracy: 0.8116\n",
            "Epoch 254/300\n",
            "18/18 [==============================] - 0s 4ms/step - loss: 0.3818 - accuracy: 0.8376 - val_loss: 0.5313 - val_accuracy: 0.8043\n",
            "Epoch 255/300\n",
            "18/18 [==============================] - 0s 4ms/step - loss: 0.3857 - accuracy: 0.8412 - val_loss: 0.5307 - val_accuracy: 0.7971\n",
            "Epoch 256/300\n",
            "18/18 [==============================] - 0s 4ms/step - loss: 0.3830 - accuracy: 0.8358 - val_loss: 0.5300 - val_accuracy: 0.7971\n",
            "Epoch 257/300\n",
            "18/18 [==============================] - 0s 4ms/step - loss: 0.3814 - accuracy: 0.8339 - val_loss: 0.5280 - val_accuracy: 0.7971\n",
            "Epoch 258/300\n",
            "18/18 [==============================] - 0s 3ms/step - loss: 0.3807 - accuracy: 0.8339 - val_loss: 0.5291 - val_accuracy: 0.7971\n",
            "Epoch 259/300\n",
            "18/18 [==============================] - 0s 4ms/step - loss: 0.3792 - accuracy: 0.8412 - val_loss: 0.5288 - val_accuracy: 0.8043\n",
            "Epoch 260/300\n",
            "18/18 [==============================] - 0s 4ms/step - loss: 0.3807 - accuracy: 0.8376 - val_loss: 0.5286 - val_accuracy: 0.8043\n",
            "Epoch 261/300\n",
            "18/18 [==============================] - 0s 4ms/step - loss: 0.3800 - accuracy: 0.8376 - val_loss: 0.5301 - val_accuracy: 0.7971\n",
            "Epoch 262/300\n",
            "18/18 [==============================] - 0s 4ms/step - loss: 0.3784 - accuracy: 0.8394 - val_loss: 0.5283 - val_accuracy: 0.7971\n",
            "Epoch 263/300\n",
            "18/18 [==============================] - 0s 4ms/step - loss: 0.3811 - accuracy: 0.8394 - val_loss: 0.5268 - val_accuracy: 0.7971\n",
            "Epoch 264/300\n",
            "18/18 [==============================] - 0s 4ms/step - loss: 0.3824 - accuracy: 0.8358 - val_loss: 0.5323 - val_accuracy: 0.7899\n",
            "Epoch 265/300\n",
            "18/18 [==============================] - 0s 5ms/step - loss: 0.3843 - accuracy: 0.8394 - val_loss: 0.5265 - val_accuracy: 0.7899\n",
            "Epoch 266/300\n",
            "18/18 [==============================] - 0s 4ms/step - loss: 0.3797 - accuracy: 0.8431 - val_loss: 0.5305 - val_accuracy: 0.8043\n",
            "Epoch 267/300\n",
            "18/18 [==============================] - 0s 4ms/step - loss: 0.3815 - accuracy: 0.8394 - val_loss: 0.5284 - val_accuracy: 0.8043\n",
            "Epoch 268/300\n",
            "18/18 [==============================] - 0s 4ms/step - loss: 0.3822 - accuracy: 0.8376 - val_loss: 0.5280 - val_accuracy: 0.8043\n",
            "Epoch 269/300\n",
            "18/18 [==============================] - 0s 5ms/step - loss: 0.3794 - accuracy: 0.8358 - val_loss: 0.5318 - val_accuracy: 0.8043\n",
            "Epoch 270/300\n",
            "18/18 [==============================] - 0s 4ms/step - loss: 0.3822 - accuracy: 0.8394 - val_loss: 0.5304 - val_accuracy: 0.7971\n",
            "Epoch 271/300\n",
            "18/18 [==============================] - 0s 3ms/step - loss: 0.3781 - accuracy: 0.8358 - val_loss: 0.5296 - val_accuracy: 0.7899\n",
            "Epoch 272/300\n",
            "18/18 [==============================] - 0s 4ms/step - loss: 0.3770 - accuracy: 0.8358 - val_loss: 0.5301 - val_accuracy: 0.7899\n",
            "Epoch 273/300\n",
            "18/18 [==============================] - 0s 4ms/step - loss: 0.3774 - accuracy: 0.8358 - val_loss: 0.5319 - val_accuracy: 0.7971\n",
            "Epoch 274/300\n",
            "18/18 [==============================] - 0s 4ms/step - loss: 0.3781 - accuracy: 0.8412 - val_loss: 0.5324 - val_accuracy: 0.8043\n",
            "Epoch 275/300\n",
            "18/18 [==============================] - 0s 4ms/step - loss: 0.3775 - accuracy: 0.8358 - val_loss: 0.5309 - val_accuracy: 0.7899\n",
            "Epoch 276/300\n",
            "18/18 [==============================] - 0s 4ms/step - loss: 0.3774 - accuracy: 0.8358 - val_loss: 0.5312 - val_accuracy: 0.7899\n",
            "Epoch 277/300\n",
            "18/18 [==============================] - 0s 4ms/step - loss: 0.3859 - accuracy: 0.8303 - val_loss: 0.5328 - val_accuracy: 0.7754\n",
            "Epoch 278/300\n",
            "18/18 [==============================] - 0s 4ms/step - loss: 0.3823 - accuracy: 0.8412 - val_loss: 0.5359 - val_accuracy: 0.7971\n",
            "Epoch 279/300\n",
            "18/18 [==============================] - 0s 4ms/step - loss: 0.3752 - accuracy: 0.8412 - val_loss: 0.5321 - val_accuracy: 0.7971\n",
            "Epoch 280/300\n",
            "18/18 [==============================] - 0s 3ms/step - loss: 0.3766 - accuracy: 0.8358 - val_loss: 0.5344 - val_accuracy: 0.8043\n",
            "Epoch 281/300\n",
            "18/18 [==============================] - 0s 4ms/step - loss: 0.3787 - accuracy: 0.8303 - val_loss: 0.5293 - val_accuracy: 0.7899\n",
            "Epoch 282/300\n",
            "18/18 [==============================] - 0s 4ms/step - loss: 0.3803 - accuracy: 0.8376 - val_loss: 0.5339 - val_accuracy: 0.7899\n",
            "Epoch 283/300\n",
            "18/18 [==============================] - 0s 3ms/step - loss: 0.3766 - accuracy: 0.8394 - val_loss: 0.5324 - val_accuracy: 0.7971\n",
            "Epoch 284/300\n",
            "18/18 [==============================] - 0s 4ms/step - loss: 0.3801 - accuracy: 0.8431 - val_loss: 0.5321 - val_accuracy: 0.7899\n",
            "Epoch 285/300\n",
            "18/18 [==============================] - 0s 4ms/step - loss: 0.3759 - accuracy: 0.8412 - val_loss: 0.5316 - val_accuracy: 0.7899\n",
            "Epoch 286/300\n",
            "18/18 [==============================] - 0s 4ms/step - loss: 0.3751 - accuracy: 0.8431 - val_loss: 0.5324 - val_accuracy: 0.7971\n",
            "Epoch 287/300\n",
            "18/18 [==============================] - 0s 5ms/step - loss: 0.3765 - accuracy: 0.8376 - val_loss: 0.5353 - val_accuracy: 0.8043\n",
            "Epoch 288/300\n",
            "18/18 [==============================] - 0s 5ms/step - loss: 0.3804 - accuracy: 0.8449 - val_loss: 0.5350 - val_accuracy: 0.8043\n",
            "Epoch 289/300\n",
            "18/18 [==============================] - 0s 4ms/step - loss: 0.3749 - accuracy: 0.8358 - val_loss: 0.5366 - val_accuracy: 0.8043\n",
            "Epoch 290/300\n",
            "18/18 [==============================] - 0s 5ms/step - loss: 0.3758 - accuracy: 0.8358 - val_loss: 0.5333 - val_accuracy: 0.7899\n",
            "Epoch 291/300\n",
            "18/18 [==============================] - 0s 5ms/step - loss: 0.3751 - accuracy: 0.8485 - val_loss: 0.5321 - val_accuracy: 0.7971\n",
            "Epoch 292/300\n",
            "18/18 [==============================] - 0s 4ms/step - loss: 0.3743 - accuracy: 0.8467 - val_loss: 0.5346 - val_accuracy: 0.7971\n",
            "Epoch 293/300\n",
            "18/18 [==============================] - 0s 4ms/step - loss: 0.3756 - accuracy: 0.8376 - val_loss: 0.5339 - val_accuracy: 0.7971\n",
            "Epoch 294/300\n",
            "18/18 [==============================] - 0s 3ms/step - loss: 0.3794 - accuracy: 0.8431 - val_loss: 0.5398 - val_accuracy: 0.7971\n",
            "Epoch 295/300\n",
            "18/18 [==============================] - 0s 4ms/step - loss: 0.3788 - accuracy: 0.8394 - val_loss: 0.5379 - val_accuracy: 0.7971\n",
            "Epoch 296/300\n",
            "18/18 [==============================] - 0s 4ms/step - loss: 0.3736 - accuracy: 0.8412 - val_loss: 0.5333 - val_accuracy: 0.7899\n",
            "Epoch 297/300\n",
            "18/18 [==============================] - 0s 4ms/step - loss: 0.3776 - accuracy: 0.8376 - val_loss: 0.5309 - val_accuracy: 0.7899\n",
            "Epoch 298/300\n",
            "18/18 [==============================] - 0s 5ms/step - loss: 0.3768 - accuracy: 0.8376 - val_loss: 0.5329 - val_accuracy: 0.7899\n",
            "Epoch 299/300\n",
            "18/18 [==============================] - 0s 4ms/step - loss: 0.3730 - accuracy: 0.8412 - val_loss: 0.5348 - val_accuracy: 0.7971\n",
            "Epoch 300/300\n",
            "18/18 [==============================] - 0s 3ms/step - loss: 0.3741 - accuracy: 0.8376 - val_loss: 0.5360 - val_accuracy: 0.7971\n"
          ]
        }
      ]
    },
    {
      "cell_type": "code",
      "source": [
        "sns.set()\n",
        "fig = plt.figure(0, (12, 4))\n",
        "\n",
        "ax = plt.subplot(1, 2, 1)\n",
        "sns.lineplot(history.epoch, history.history['accuracy'], label='train')\n",
        "sns.lineplot(history.epoch, history.history['val_accuracy'], label='valid')\n",
        "plt.title('Accuracy')\n",
        "plt.tight_layout()\n",
        "\n",
        "ax = plt.subplot(1, 2, 2)\n",
        "sns.lineplot(history.epoch, history.history['loss'], label='train')\n",
        "sns.lineplot(history.epoch, history.history['val_loss'], label='valid')\n",
        "plt.title('Loss')\n",
        "plt.tight_layout()\n",
        "\n",
        "plt.savefig('epoch_history_dcnn.png')\n",
        "plt.show()"
      ],
      "metadata": {
        "colab": {
          "base_uri": "https://localhost:8080/",
          "height": 293
        },
        "id": "tCbu6Iizo8tA",
        "outputId": "23507a3b-656c-4699-a9d6-7955c43210f0"
      },
      "execution_count": 13,
      "outputs": [
        {
          "output_type": "display_data",
          "data": {
            "text/plain": [
              "<Figure size 864x288 with 2 Axes>"
            ],
            "image/png": "[encoded data removed]"
          },
          "metadata": {}
        }
      ]
    },
    {
      "cell_type": "code",
      "source": [
        "new_songs_df = pd.read_csv('/content/drive/MyDrive/Datasets/data.csv') \n",
        "\n",
        "features = ['danceability', 'acousticness', 'energy', 'instrumentalness',\n",
        "       'liveness', 'valence', 'loudness', 'speechiness', 'tempo']\n",
        "pred_X = new_songs_df[features]\n",
        "pred_X = MinMaxScaler().fit_transform(pred_X)\n",
        "\n",
        "data_np = np.array(pred_X)"
      ],
      "metadata": {
        "id": "M7oup1NDzZDM"
      },
      "execution_count": 14,
      "outputs": []
    },
    {
      "cell_type": "code",
      "source": [
        "pred_Y = model.predict(data_np)"
      ],
      "metadata": {
        "colab": {
          "base_uri": "https://localhost:8080/"
        },
        "id": "N66igD9esD--",
        "outputId": "5f9bb189-f6f6-41d3-ab20-e70cd5fd1936"
      },
      "execution_count": 15,
      "outputs": [
        {
          "output_type": "stream",
          "name": "stdout",
          "text": [
            "2/2 [==============================] - 0s 5ms/step\n"
          ]
        }
      ]
    },
    {
      "cell_type": "code",
      "source": [
        "mood = np.array([song_moods[i.argmax()] for i in pred_Y])\n",
        "mood.shape"
      ],
      "metadata": {
        "colab": {
          "base_uri": "https://localhost:8080/"
        },
        "id": "KAnDqLiMskg5",
        "outputId": "3a0d3acb-5f7f-45a8-e8cc-7b5956869b04"
      },
      "execution_count": 16,
      "outputs": [
        {
          "output_type": "execute_result",
          "data": {
            "text/plain": [
              "(50,)"
            ]
          },
          "metadata": {},
          "execution_count": 16
        }
      ]
    },
    {
      "cell_type": "code",
      "source": [
        "print(mood)"
      ],
      "metadata": {
        "colab": {
          "base_uri": "https://localhost:8080/"
        },
        "id": "WZuelqpUwJam",
        "outputId": "aa8b54b0-b688-45c9-abef-a0b0816caf8c"
      },
      "execution_count": 17,
      "outputs": [
        {
          "output_type": "stream",
          "name": "stdout",
          "text": [
            "['happy' 'happy' 'happy' 'happy' 'happy' 'sad' 'happy' 'sad' 'happy'\n",
            " 'happy' 'happy' 'happy' 'happy' 'happy' 'happy' 'sad' 'happy' 'happy'\n",
            " 'sad' 'energetic' 'happy' 'happy' 'happy' 'happy' 'sad' 'happy' 'happy'\n",
            " 'energetic' 'energetic' 'sad' 'happy' 'happy' 'happy' 'happy' 'energetic'\n",
            " 'happy' 'happy' 'happy' 'happy' 'happy' 'happy' 'happy' 'energetic'\n",
            " 'happy' 'happy' 'happy' 'sad' 'happy' 'happy' 'happy']\n"
          ]
        }
      ]
    },
    {
      "cell_type": "code",
      "source": [
        "new_songs_df['mood'] = mood\n",
        "new_songs_df.shape"
      ],
      "metadata": {
        "id": "Fiwb7Svwx7cA",
        "outputId": "17f54ea0-ec67-491b-ff32-79c2308808ba",
        "colab": {
          "base_uri": "https://localhost:8080/"
        }
      },
      "execution_count": 19,
      "outputs": [
        {
          "output_type": "execute_result",
          "data": {
            "text/plain": [
              "(50, 20)"
            ]
          },
          "metadata": {},
          "execution_count": 19
        }
      ]
    },
    {
      "cell_type": "code",
      "source": [
        "new_songs_df.to_csv('/content/drive/MyDrive/Datasets/datawithmood.csv')"
      ],
      "metadata": {
        "id": "ST1OdjdPsepM"
      },
      "execution_count": 21,
      "outputs": []
    },
    {
      "cell_type": "code",
      "source": [
        "model.save(\"/content/drive/MyDrive/Datasets/songmodel.h5\")"
      ],
      "metadata": {
        "id": "kIgfMwxPz6DA"
      },
      "execution_count": 22,
      "outputs": []
    }
  ]
}